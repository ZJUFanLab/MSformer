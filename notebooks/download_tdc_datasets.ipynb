{
 "cells": [
  {
   "cell_type": "markdown",
   "id": "a6889cf5-0aa7-4f88-a0f7-9cc561aabf50",
   "metadata": {},
   "source": [
    "# 1. High-throughput Screening Prediction Task Overview"
   ]
  },
  {
   "cell_type": "markdown",
   "id": "3b95a44a-79a2-4fb3-a717-e58eb8a9e603",
   "metadata": {},
   "source": [
    "## 1.1 SARS-CoV-2 In Vitro, Touret et al.\n",
    "\n",
    "Dataset Description: An in-vitro screen of the Prestwick chemical library composed of 1,480 approved drugs in an infected cell-based assay. From MIT AiCures.\n",
    "\n",
    "Task Description: Binary classification. Given a drug SMILES string, predict its activity against SARSCoV2.\n",
    "\n",
    "Dataset Statistics: 1,480 drugs.\n",
    "\n",
    "Dataset Split: Random Split Scaffold\n",
    "\n",
    "- References:\n",
    "\n",
    "[1] Touret, F., Gilles, M., Barral, K. et al. In vitro screening of a FDA approved chemical library reveals potential inhibitors of SARS-CoV-2 replication. Sci Rep 10, 13093 (2020).\n",
    "\n",
    "[2] MIT AI Cures. Split"
   ]
  },
  {
   "cell_type": "code",
   "execution_count": 1,
   "id": "620e007d-5b79-4f77-b54a-6ddf37595902",
   "metadata": {
    "execution": {
     "iopub.execute_input": "2024-07-15T07:35:03.510120Z",
     "iopub.status.busy": "2024-07-15T07:35:03.509651Z",
     "iopub.status.idle": "2024-07-15T07:35:14.208279Z",
     "shell.execute_reply": "2024-07-15T07:35:14.207506Z",
     "shell.execute_reply.started": "2024-07-15T07:35:03.510091Z"
    }
   },
   "outputs": [
    {
     "name": "stderr",
     "output_type": "stream",
     "text": [
      "Found local copy...\n",
      "Loading...\n",
      "Done!\n"
     ]
    }
   ],
   "source": [
    "from tdc.single_pred import HTS\n",
    "data = HTS(name = 'SARSCoV2_Vitro_Touret')\n",
    "split = data.get_split()"
   ]
  },
  {
   "cell_type": "markdown",
   "id": "150d81a0-aed1-4f25-9bda-15f7d9f5e838",
   "metadata": {},
   "source": [
    "## 1.2 SARS-CoV-2 3CL Protease, Diamond.\n",
    "SARS-CoV-2 3CL Protease, Diamond.\n",
    "Dataset Description: A large XChem crystallographic fragment screen against SARS-CoV-2 main protease at high resolution. From MIT AiCures.\n",
    "\n",
    "Task Description: Binary classification. Given a drug SMILES string, predict its activity against SARSCoV2 3CL Protease.\n",
    "\n",
    "Dataset Statistics: 879 drugs.\n",
    "\n",
    "Dataset Split: Random Split Scaffold Split\n",
    "\n",
    "- References:\n",
    "\n",
    "[1] Diamond Light Source\n",
    "\n",
    "[2] MIT AI CuY 4.0."
   ]
  },
  {
   "cell_type": "code",
   "execution_count": 2,
   "id": "b24532d8-b8c7-4443-bf13-a6b66ba61358",
   "metadata": {
    "execution": {
     "iopub.execute_input": "2024-07-15T07:35:14.210473Z",
     "iopub.status.busy": "2024-07-15T07:35:14.210069Z",
     "iopub.status.idle": "2024-07-15T07:35:14.234308Z",
     "shell.execute_reply": "2024-07-15T07:35:14.233638Z",
     "shell.execute_reply.started": "2024-07-15T07:35:14.210446Z"
    }
   },
   "outputs": [
    {
     "name": "stderr",
     "output_type": "stream",
     "text": [
      "Found local copy...\n",
      "Loading...\n",
      "Done!\n"
     ]
    }
   ],
   "source": [
    "from tdc.single_pred import HTS\n",
    "data = HTS(name = 'SARSCoV2_3CLPro_Diamond')\n",
    "split = data.get_split()"
   ]
  },
  {
   "cell_type": "markdown",
   "id": "5df5aa16-c968-43aa-b561-8ed3e380b9e3",
   "metadata": {},
   "source": [
    "## 1.3 HIV\n",
    "Dataset Description: The HIV dataset was introduced by the Drug Therapeutics Program (DTP) AIDS Antiviral Screen, which tested the ability to inhibit HIV replication for over 40,000 compounds. From MoleculeNet.\n",
    "\n",
    "Task Description: Binary classification. Given a drug SMILES string, predict its activity against HIV virus.\n",
    "\n",
    "Dataset Statistics: 41,127 drugs.\n",
    "\n",
    "Dataset Split: Random Split Scaffold Split\n",
    "\n",
    "- References:\n",
    "\n",
    "[1] AIDS Antiviral Screen Data.\n",
    "\n",
    "[2] Wu, Zhenqin, et al. “MoleculeNet: a benchmark for molecular machine learning.” Chemical science 9.2 (2018): 513-530."
   ]
  },
  {
   "cell_type": "code",
   "execution_count": 3,
   "id": "5052d373-d21c-48f3-b6c5-1f33bc045e94",
   "metadata": {
    "execution": {
     "iopub.execute_input": "2024-07-15T07:35:14.235704Z",
     "iopub.status.busy": "2024-07-15T07:35:14.235144Z",
     "iopub.status.idle": "2024-07-15T07:35:14.381257Z",
     "shell.execute_reply": "2024-07-15T07:35:14.380460Z",
     "shell.execute_reply.started": "2024-07-15T07:35:14.235678Z"
    }
   },
   "outputs": [
    {
     "name": "stderr",
     "output_type": "stream",
     "text": [
      "Found local copy...\n",
      "Loading...\n",
      "Done!\n"
     ]
    }
   ],
   "source": [
    "from tdc.single_pred import HTS\n",
    "data = HTS(name = 'HIV')\n",
    "split = data.get_split()"
   ]
  },
  {
   "cell_type": "markdown",
   "id": "6451ab04-2fbe-4f5e-9fdc-1a8dd6d76851",
   "metadata": {},
   "source": [
    "## 1.4 Butkiewicz et al.\n",
    "Dataset Description: These are nine high-quality high-throughput screening (HTS) datasets from [1]. These datasets were curated from HTS data at the PubChem database [2]. Typically, HTS categorizes small molecules into hit, inactive, or unspecified against a certain therapeutic target. However, a compound may be falsely classified as a hit due to experimental artifacts such as optical interference. Moreover, because the screening is performed without duplicates, and the cutoff is often set loose to minimize the false negative rates, the results from the primary screens often contain high false positive rates [3]. Hence the result from the primary screen is only used as the first iteration to reduce the compound library to a smaller set of further confirmatory tests. Here each dataset is carefully collated through confirmation screens to validate active compounds. The curation process is documented in [1]. Each dataset is identified by the PubChem Assay ID (AID). Features of the datasets: (1) At least 150 confirmed active compounds present; (2) Diverse target classes; (3) Realistic (large number and highly imbalanced label).\n",
    "\n",
    "Task Description: Binary classification. Given a compound SMILES string, predict its activity against a diverse set of targets.\n",
    "\n",
    "Dataset Statistics:\n",
    "| Protein Target Class | PubChem AID | Protein Target                     | Total # of Molecules | # of Active Molecules |\n",
    "|---------------------|-------------|-----------------------------------|---------------------|----------------------|\n",
    "| GPCR                | 435008      | Orexin1 Receptor                  | 218,158            | 233                 |\n",
    "| GPCR                | 1798        | M1 Muscarinic Receptor Agonists    | 61,833             | 187                 |\n",
    "| GPCR                | 435034      | M1 Muscarinic Receptor Antagonists | 61,756             | 362                 |\n",
    "| Ion Channel        | 1843        | Potassium Ion Channel Kir2.1      | 301,493            | 172                 |\n",
    "| Ion Channel        | 2258        | KCNQ2 Potassium Channel           | 302,405            | 213                 |\n",
    "| Ion Channel        | 463087      | Cav3 T-type Calcium Channels     | 100,875            | 703                 |\n",
    "| Transporter        | 488997      | Choline Transporter               | 302,306            | 252                 |\n",
    "| Kinase              | 2689        | Serine/Threonine Kinase 33       | 319,792            | 172                 |\n",
    "| Enzyme              | 485290      | Tyrosyl-DNA Phosphodiesterase     | 341,365            | 281                 |\n",
    "\n",
    "- References:\n",
    "\n",
    "[1] Butkiewicz, Mariusz, et al. “Benchmarking ligand-based virtual High-Throughput Screening with the PubChem database.” Molecules 18.1 (2013): 735-756.\n",
    "\n",
    "[2] Kim, Sunghwan, et al. “PubChem 2019 update: improved access to chemical data.” Nucleic acids research 47.D1 (2019): D1102-D1109.\n",
    "\n",
    "[3] Butkiewicz, Mariusz, et al. “High-throughput screening assay datasets from the pubchem database.” Chemical informatics (Wilmington, Del.) 3.1 (2017)."
   ]
  },
  {
   "cell_type": "code",
   "execution_count": null,
   "id": "2442c95f-e487-4023-b186-3a117b7d2a34",
   "metadata": {
    "execution": {
     "iopub.execute_input": "2024-07-15T07:35:14.382838Z",
     "iopub.status.busy": "2024-07-15T07:35:14.382318Z",
     "iopub.status.idle": "2024-07-15T07:35:16.912824Z",
     "shell.execute_reply": "2024-07-15T07:35:16.912134Z",
     "shell.execute_reply.started": "2024-07-15T07:35:14.382811Z"
    }
   },
   "outputs": [
    {
     "name": "stderr",
     "output_type": "stream",
     "text": [
      "Found local copy...\n",
      "Loading...\n",
      "Done!\n",
      "Found local copy...\n",
      "Loading...\n",
      "Done!\n",
      "Found local copy...\n",
      "Loading...\n",
      "Done!\n",
      "Found local copy...\n",
      "Loading...\n",
      "Done!\n",
      "Found local copy...\n",
      "Loading...\n",
      "Done!\n",
      "Found local copy...\n",
      "Loading...\n",
      "Done!\n",
      "Found local copy...\n",
      "Loading...\n",
      "Done!\n",
      "Found local copy...\n",
      "Loading...\n",
      "Done!\n"
     ]
    }
   ],
   "source": [
    "from tdc.single_pred import HTS\n",
    "# 1.1 Orexin1 Receptor\n",
    "data = HTS(name = 'orexin1_receptor_butkiewicz')\n",
    "df = data.get_data()\n",
    "splits = data.get_split()\n",
    "\n",
    "# 1.2 M1 Muscarinic Receptor Agonists\n",
    "data = HTS(name = 'm1_muscarinic_receptor_agonists_butkiewicz')\n",
    "df = data.get_data()\n",
    "splits = data.get_split()\n",
    "\n",
    "# M1 Muscarinic Receptor Antagonists\n",
    "data = HTS(name = 'm1_muscarinic_receptor_antagonists_butkiewicz')\n",
    "df = data.get_data()\n",
    "splits = data.get_split()\n",
    "\n",
    "# Potassium Ion Channel Kir2.1 \n",
    "data = HTS(name = 'potassium_ion_channel_kir2.1_butkiewicz')\n",
    "df = data.get_data()\n",
    "splits = data.get_split()\n",
    "\n",
    "# KCNQ2 Potassium Channel\n",
    "data = HTS(name = 'kcnq2_potassium_channel_butkiewicz')\n",
    "df = data.get_data()\n",
    "splits = data.get_split()\n",
    "\n",
    "# Cav3 T-type Calcium Channels\n",
    "data = HTS(name = 'cav3_t-type_calcium_channels_butkiewicz')\n",
    "df = data.get_data()\n",
    "splits = data.get_split()\n",
    "\n",
    "# Choline Transporter，\n",
    "# data = HTS(name = 'choline_transporter_butkiewicz')\n",
    "# df = data.get_data()\n",
    "# splits = data.get_split()\n",
    "\n",
    "# Serine/Threonine Kinase 33\n",
    "data = HTS(name = 'serine_threonine_kinase_33_butkiewicz')\n",
    "df = data.get_data()\n",
    "splits = data.get_split()\n",
    "\n",
    "# Tyrosyl-DNA Phosphodiesterase\n",
    "data = HTS(name = 'tyrosyl-dna_phosphodiesterase_butkiewicz')\n",
    "df = data.get_data()\n",
    "splits = data.get_split()"
   ]
  }
 ],
 "metadata": {
  "kernelspec": {
   "display_name": "msformer",
   "language": "python",
   "name": "msformer"
  },
  "language_info": {
   "codemirror_mode": {
    "name": "ipython",
    "version": 3
   },
   "file_extension": ".py",
   "mimetype": "text/x-python",
   "name": "python",
   "nbconvert_exporter": "python",
   "pygments_lexer": "ipython3",
   "version": "3.10.12"
  }
 },
 "nbformat": 4,
 "nbformat_minor": 5
}
